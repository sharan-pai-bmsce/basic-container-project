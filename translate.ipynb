{
 "cells": [
  {
   "cell_type": "code",
   "execution_count": 18,
   "metadata": {},
   "outputs": [],
   "source": [
    "import pandas as pd\n",
    "import json\n",
    "filename='titles.csv'\n",
    "dataframe=pd.read_csv(filename)\n",
    "dataframe=dataframe.drop(['id','imdb_votes','tmdb_popularity','tmdb_score'],axis=1)\n",
    "# dataframe=dataframe[0:1000]\n",
    "result=dataframe.to_json('titles.json',orient='records')\n",
    "# parsed=json.loads(result)\n",
    "# json.dumps(parsed,indent=4)\n",
    "\n",
    "# dataframe\n"
   ]
  }
 ],
 "metadata": {
  "interpreter": {
   "hash": "52634da84371cba311ea128a5ea7cdc41ff074b781779e754b270ff9f8153cee"
  },
  "kernelspec": {
   "display_name": "Python 3.10.4 64-bit",
   "language": "python",
   "name": "python3"
  },
  "language_info": {
   "codemirror_mode": {
    "name": "ipython",
    "version": 3
   },
   "file_extension": ".py",
   "mimetype": "text/x-python",
   "name": "python",
   "nbconvert_exporter": "python",
   "pygments_lexer": "ipython3",
   "version": "3.10.4"
  },
  "orig_nbformat": 4
 },
 "nbformat": 4,
 "nbformat_minor": 2
}
